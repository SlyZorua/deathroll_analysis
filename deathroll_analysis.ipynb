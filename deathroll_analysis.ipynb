{
 "cells": [
  {
   "cell_type": "markdown",
   "metadata": {},
   "source": [
    "# Deathroll Analysis"
   ]
  },
  {
   "cell_type": "markdown",
   "metadata": {},
   "source": [
    "Imports:"
   ]
  },
  {
   "cell_type": "code",
   "execution_count": 1,
   "metadata": {},
   "outputs": [],
   "source": [
    "from random import randint"
   ]
  },
  {
   "cell_type": "markdown",
   "metadata": {},
   "source": [
    "Define a function that simulates a single death roll game between two players:"
   ]
  },
  {
   "cell_type": "code",
   "execution_count": 2,
   "metadata": {},
   "outputs": [],
   "source": [
    "def death_roll(initial_upper):\n",
    "    \"\"\"\n",
    "    A function that simulates a single death roll game between two players.\n",
    "    :params: initial_upper is the upper-bound of the first roll.\n",
    "    :returns: An array containing the winner, and the number of rounds/rolls.\n",
    "    \"\"\"\n",
    "\n",
    "    # Player 1 goes first\n",
    "    current_player = 1\n",
    "    current_roll = initial_upper\n",
    "    num_rolls = 0\n",
    "\n",
    "    while True:\n",
    "        # Roll 1-current_roll\n",
    "        current_roll = randint(1,current_roll)\n",
    "        print(\"Player \" + str(current_player) + \" rolled a: \" + str(current_roll))\n",
    "    \n",
    "        # Break if player rolls a 1\n",
    "        if current_roll == 1:\n",
    "            break\n",
    "    \n",
    "        # Next players turn\n",
    "        if current_player == 1:\n",
    "            current_player = 2\n",
    "        elif current_player == 2:\n",
    "            current_player = 1\n",
    "        \n",
    "        # Incrememnt the number of rolls\n",
    "        num_rolls += 1\n",
    "\n",
    "    # Declare winner as the opposite of the player that rolled 1\n",
    "    if current_player == 1:\n",
    "        winner = 2\n",
    "    elif current_player == 2:\n",
    "        winner = 1\n",
    "\n",
    "    # Return array containing the winner and the number of rolls/rounds\n",
    "    return [winner, num_rolls]"
   ]
  },
  {
   "cell_type": "code",
   "execution_count": null,
   "metadata": {},
   "outputs": [],
   "source": []
  }
 ],
 "metadata": {
  "interpreter": {
   "hash": "60015666735a0000599ba2ae15b8f747bd6817ebd70a53af7ea250f075b403ad"
  },
  "kernelspec": {
   "display_name": "Python 3.7.11 ('base')",
   "language": "python",
   "name": "python3"
  },
  "language_info": {
   "codemirror_mode": {
    "name": "ipython",
    "version": 3
   },
   "file_extension": ".py",
   "mimetype": "text/x-python",
   "name": "python",
   "nbconvert_exporter": "python",
   "pygments_lexer": "ipython3",
   "version": "3.7.11"
  },
  "orig_nbformat": 4
 },
 "nbformat": 4,
 "nbformat_minor": 2
}
